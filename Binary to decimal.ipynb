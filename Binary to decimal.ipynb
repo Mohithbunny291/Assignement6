{
 "cells": [
  {
   "cell_type": "code",
   "execution_count": null,
   "metadata": {},
   "outputs": [],
   "source": [
    "num=list(input(\"input binary number\"))\n",
    "value=0\n",
    "for i in range(len(num)):\n",
    "     digit=num.pop()\n",
    "     if digit=='1':\n",
    "                    value=value+pow(2,i)\n",
    "print(\"decimal value of the number is\",value)"
   ]
  }
 ],
 "metadata": {
  "kernelspec": {
   "display_name": "Python 3",
   "language": "python",
   "name": "python3"
  },
  "language_info": {
   "codemirror_mode": {
    "name": "ipython",
    "version": 3
   },
   "file_extension": ".py",
   "mimetype": "text/x-python",
   "name": "python",
   "nbconvert_exporter": "python",
   "pygments_lexer": "ipython3",
   "version": "3.8.2"
  }
 },
 "nbformat": 4,
 "nbformat_minor": 4
}
