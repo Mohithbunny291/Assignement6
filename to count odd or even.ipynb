{
 "cells": [
  {
   "cell_type": "code",
   "execution_count": null,
   "metadata": {},
   "outputs": [],
   "source": [
    "numbers=(0,1,2,3,4,5,6,7,8,9,10)\n",
    "count_odd=0\n",
    "count_even=0\n",
    "for x in numbers:\n",
    "                  if not x%2:\n",
    "                               count_even+=1\n",
    "                  else:\n",
    "                               count_odd+=1\n",
    "print(\"even numbers\",count_even)\n",
    "print(\"odd numbers\",count_odd)"
   ]
  }
 ],
 "metadata": {
  "kernelspec": {
   "display_name": "Python 3",
   "language": "python",
   "name": "python3"
  },
  "language_info": {
   "codemirror_mode": {
    "name": "ipython",
    "version": 3
   },
   "file_extension": ".py",
   "mimetype": "text/x-python",
   "name": "python",
   "nbconvert_exporter": "python",
   "pygments_lexer": "ipython3",
   "version": "3.8.2"
  }
 },
 "nbformat": 4,
 "nbformat_minor": 4
}
