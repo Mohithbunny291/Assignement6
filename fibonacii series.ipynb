{
 "cells": [
  {
   "cell_type": "code",
   "execution_count": null,
   "metadata": {},
   "outputs": [],
   "source": [
    "number=int(input(\"enter the number\"))\n",
    "i=0\n",
    "first=0\n",
    "second=1\n",
    "while(i<number):\n",
    "            if(i<=1):\n",
    "                      next=i\n",
    "            else:\n",
    "                  next=first+second\n",
    "                  first=second\n",
    "                  second=next\n",
    "            print(next)\n",
    "            i=i+1"
   ]
  }
 ],
 "metadata": {
  "kernelspec": {
   "display_name": "Python 3",
   "language": "python",
   "name": "python3"
  },
  "language_info": {
   "codemirror_mode": {
    "name": "ipython",
    "version": 3
   },
   "file_extension": ".py",
   "mimetype": "text/x-python",
   "name": "python",
   "nbconvert_exporter": "python",
   "pygments_lexer": "ipython3",
   "version": "3.8.2"
  }
 },
 "nbformat": 4,
 "nbformat_minor": 4
}
