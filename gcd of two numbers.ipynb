{
 "cells": [
  {
   "cell_type": "code",
   "execution_count": 1,
   "metadata": {},
   "outputs": [
    {
     "name": "stdout",
     "output_type": "stream",
     "text": [
      "6\n"
     ]
    }
   ],
   "source": [
    "def hcf(x,y):\n",
    "              if x>y:\n",
    "                      smaller=y\n",
    "              else:\n",
    "                      smaller=x\n",
    "              for i in range(1,smaller+1): \n",
    "                                           if((x%i==0) and (y%i==0)):\n",
    "                                                                      hcf=i\n",
    "              return hcf\n",
    "num1=54\n",
    "num2=24\n",
    "print(hcf(num1,num2))"
   ]
  }
 ],
 "metadata": {
  "kernelspec": {
   "display_name": "Python 3",
   "language": "python",
   "name": "python3"
  },
  "language_info": {
   "codemirror_mode": {
    "name": "ipython",
    "version": 3
   },
   "file_extension": ".py",
   "mimetype": "text/x-python",
   "name": "python",
   "nbconvert_exporter": "python",
   "pygments_lexer": "ipython3",
   "version": "3.8.2"
  }
 },
 "nbformat": 4,
 "nbformat_minor": 4
}
